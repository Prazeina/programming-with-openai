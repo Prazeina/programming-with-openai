{
 "cells": [
  {
   "cell_type": "code",
   "execution_count": 2,
   "id": "0d43e820",
   "metadata": {},
   "outputs": [],
   "source": [
    "import os\n",
    "with open(\".env\",\"r\") as f:\n",
    "    key = f.read().strip()\n",
    "os.environ[\"OPENAI_API_KEY\"] = key"
   ]
  },
  {
   "cell_type": "markdown",
   "id": "13a89d0c",
   "metadata": {},
   "source": [
    "## Interacting with OpenAI programmatically \n",
    "* Set up a client\n",
    "* Create a prompt\n",
    "* To provide a context for the prompt, use a message object\n",
    "* Specify the openAI model you can plan on using\n",
    "* Make an API Call"
   ]
  },
  {
   "cell_type": "code",
   "execution_count": null,
   "id": "5f245a77",
   "metadata": {},
   "outputs": [],
   "source": [
    "# Client\n",
    "import openai\n",
    "from openai import OpenAI\n",
    "client = OpenAI()\n",
    "\n",
    "# Prompt\n",
    " \n",
    "prompt = \"Who holds the fastest 100 metres record?\"\n",
    "\n",
    "#Message\n",
    "#Let's say we onlt want the record for the Olympics\n",
    "#We'll use the system attribute to set the context\n",
    "\n",
    "context = \"Your answers should be confined to the summer olympics\"\n",
    "message =[\n",
    "    {\"role\": \"system\", \"content\": context},\n",
    "    {\"role\": \"user\", \"content\": prompt}\n",
    "]\n",
    "\n",
    "# Specify the model\n",
    "model = \"gpt-4o\"\n",
    "\n",
    "# Call the API\n",
    "response = client.chat.completions.create (\n",
    "    #Temperature determines how creative the response should be, if you want creative answers set temperature to more than 0\n",
    "    model = model,\n",
    "    messages = message,\n",
    "    temperature=0\n",
    ")\n",
    "\n",
    "# Preety print the response\n",
    "import pprint\n",
    "pprint.pprint(response.choices[0].message.content)\n"
   ]
  },
  {
   "cell_type": "code",
   "execution_count": null,
   "id": "5beb1118",
   "metadata": {},
   "outputs": [],
   "source": [
    "response"
   ]
  },
  {
   "cell_type": "code",
   "execution_count": null,
   "id": "e4d8b236",
   "metadata": {},
   "outputs": [],
   "source": [
    "def get_completion(message, client=client, model=\"gpt-4o\", temperature=0):\n",
    "    message=message\n",
    "    response = client.chat.completions.create(\n",
    "        model = model,\n",
    "        messages = message,\n",
    "        temperature=0\n",
    "    )\n",
    "    return response.choices[0].message.content"
   ]
  },
  {
   "cell_type": "code",
   "execution_count": null,
   "id": "dcbaa596",
   "metadata": {},
   "outputs": [],
   "source": [
    "prompt = \"\"\"I have data that consists of:\n",
    "* 10 independent features, all normally distributed\n",
    "* one dependent variable with binary 0 or 1 values\n",
    "Generate sample data (100 samples) and write python code \n",
    "using the sklearn library for 3 different prediction models. \n",
    "Report their AUC scores\"\"\"\n",
    "\n",
    "message=[\n",
    "    {\"role\": \"system\", \"content\":\"You are a machine learning expert\"},\n",
    "    {\"role\": \"user\", \"content\": prompt}\n",
    "]\n",
    "\n",
    "response = get_completion(message=message)\n",
    "print(response)"
   ]
  },
  {
   "cell_type": "markdown",
   "id": "75335d0f",
   "metadata": {},
   "source": [
    "- Ask a follow up question\n",
    "* Set the context by including the previous prompt and response\n",
    "* Then ask the question"
   ]
  },
  {
   "cell_type": "code",
   "execution_count": null,
   "id": "4d54f111",
   "metadata": {},
   "outputs": [],
   "source": [
    "prompt_2 = \"\"\"Thank you. That was very helpful. For the same problem, could you create python code\n",
    "for a simple neural network model using tensorflow and keras?\"\"\"\n",
    "\n",
    "message = [\n",
    "    {\"role\": \"system\", \"content\": \"You are a machine learning expert\"},\n",
    "    {\"role\": \"user\", \"content\": prompt},\n",
    "    {\"role\": \"system\", \"content\": response},\n",
    "    {\"role\": \"user\", \"content\": prompt_2}\n",
    "]\n",
    "print(get_completion(message=message))"
   ]
  },
  {
   "cell_type": "markdown",
   "id": "96893128",
   "metadata": {},
   "source": [
    "The fastest 100m example again"
   ]
  },
  {
   "cell_type": "code",
   "execution_count": null,
   "id": "de6a6fed",
   "metadata": {},
   "outputs": [],
   "source": [
    "prompt = \"Who holds the fastest 100 metres record, the fastest 200m record and the 400m record?\"\n",
    "message = [\n",
    "    {\"role\": \"system\", \"content\": \"You are an athletics expert\"},\n",
    "    {\"role\": \"user\", \"content\": prompt}\n",
    "]\n",
    "pprint.pprint(get_completion(message=message))"
   ]
  },
  {
   "cell_type": "code",
   "execution_count": null,
   "id": "09ea08e8",
   "metadata": {},
   "outputs": [],
   "source": [
    "prompt_2 = \"Only for the Olympics\"\n",
    "\n",
    "message = [\n",
    "    {\"role\": \"system\", \"content\": \"You are an athletics expert\"},\n",
    "    {\"role\": \"user\", \"content\": prompt},\n",
    "    {\"role\": \"system\", \"content\": response},\n",
    "    {\"role\": \"user\", \"content\": prompt_2}\n",
    "]\n",
    "pprint.pprint(get_completion(message=message))"
   ]
  }
 ],
 "metadata": {
  "kernelspec": {
   "display_name": ".venv",
   "language": "python",
   "name": "python3"
  },
  "language_info": {
   "codemirror_mode": {
    "name": "ipython",
    "version": 3
   },
   "file_extension": ".py",
   "mimetype": "text/x-python",
   "name": "python",
   "nbconvert_exporter": "python",
   "pygments_lexer": "ipython3",
   "version": "3.13.2"
  }
 },
 "nbformat": 4,
 "nbformat_minor": 5
}
